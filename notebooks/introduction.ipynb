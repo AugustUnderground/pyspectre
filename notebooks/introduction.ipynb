{
 "cells": [
  {
   "cell_type": "markdown",
   "metadata": {},
   "source": [
    "## Getting Started with the Python Wrapper for Spectre\n",
    "- First, we import the pyspectre library, which allows us to interact with Spectre from Python.\n",
    "- Next, we specify the path to the Spectre netlist file, which contains the circuit description.\n",
    "- Finally, we start an interactive Spectre session using the netlist.\n",
    "\n",
    "This sets up a session, enabling real-time interaction with Spectre for simulations."
   ]
  },
  {
   "cell_type": "code",
   "execution_count": null,
   "metadata": {},
   "outputs": [],
   "source": [
    "from pyspectre import SpectreInterface\n",
    "\n",
    "netlist = \"../test/input.scs\"\n",
    "ps = SpectreInterface()\n",
    "ps.start_session(netlist)"
   ]
  },
  {
   "cell_type": "markdown",
   "metadata": {},
   "source": [
    "### Working with analyses"
   ]
  },
  {
   "cell_type": "code",
   "execution_count": null,
   "metadata": {},
   "outputs": [],
   "source": [
    "# You can list all the available simulation analyses in the session\n",
    "ps.list_analyses()"
   ]
  },
  {
   "cell_type": "code",
   "execution_count": null,
   "metadata": {},
   "outputs": [],
   "source": [
    "# You can list the parameters of a specific analysis\n",
    "ps.list_analysis_parameters(\"tran\")"
   ]
  },
  {
   "cell_type": "code",
   "execution_count": null,
   "metadata": {},
   "outputs": [],
   "source": [
    "# You can retrieve the information and attribute structure of a analysis parameter\n",
    "ps.get_analysis_parameter(\"tran\", \"parent\")"
   ]
  },
  {
   "cell_type": "code",
   "execution_count": null,
   "metadata": {},
   "outputs": [],
   "source": [
    "# You can create a new custom analysis in the interactive session\n",
    "ps.create_analysis(\"tran\", \"test\")"
   ]
  },
  {
   "cell_type": "code",
   "execution_count": null,
   "metadata": {},
   "outputs": [],
   "source": [
    "# You can set an attribute of an analysis parameter\n",
    "ps.set_analysis_parameter(\"tran\", \"stop\", \"value\", \"120u\")"
   ]
  },
  {
   "cell_type": "markdown",
   "metadata": {},
   "source": [
    "### Working with circuit instances (components)"
   ]
  },
  {
   "cell_type": "code",
   "execution_count": null,
   "metadata": {},
   "outputs": [],
   "source": [
    "# You can list all the components of a circuit\n",
    "ps.list_instances()"
   ]
  },
  {
   "cell_type": "code",
   "execution_count": null,
   "metadata": {},
   "outputs": [],
   "source": [
    "# You can list the parameters of a circuit component or instance\n",
    "ps.list_instance_parameters(\"CL\")"
   ]
  },
  {
   "cell_type": "code",
   "execution_count": null,
   "metadata": {},
   "outputs": [],
   "source": [
    "# You can retrieve the information and attribute structure of a instance parameter\n",
    "ps.get_instance_parameter(\"CL\", \"isnoisy\")"
   ]
  },
  {
   "cell_type": "code",
   "execution_count": null,
   "metadata": {},
   "outputs": [],
   "source": [
    "# You can set an attribute of an instance parameter\n",
    "ps.set_instance_parameter(\"CL\", \"isnoisy\", \"value\", \"no\")"
   ]
  },
  {
   "cell_type": "code",
   "execution_count": null,
   "metadata": {},
   "outputs": [],
   "source": [
    "# It is possible to list the nets of a circuit\n",
    "ps.list_nets()"
   ]
  },
  {
   "cell_type": "markdown",
   "metadata": {},
   "source": [
    "### Working with circuit parameters"
   ]
  },
  {
   "cell_type": "code",
   "execution_count": null,
   "metadata": {},
   "outputs": [],
   "source": [
    "# You can list the parameters of the circuit\n",
    "ps.list_circuit_parameters()"
   ]
  },
  {
   "cell_type": "code",
   "execution_count": null,
   "metadata": {},
   "outputs": [],
   "source": [
    "# You can retrieve the information and attribute structure of a circuit parameter\n",
    "ps.get_circuit_parameter(\"Lcm1\")"
   ]
  },
  {
   "cell_type": "code",
   "execution_count": null,
   "metadata": {},
   "outputs": [],
   "source": [
    "# You can set an attribute of an circuit parameter\n",
    "ps.set_circuit_parameter(\"Lcm1\", \"value\", \"160n\")"
   ]
  },
  {
   "cell_type": "markdown",
   "metadata": {},
   "source": [
    "### Running simulations and analyses"
   ]
  },
  {
   "cell_type": "code",
   "execution_count": null,
   "metadata": {},
   "outputs": [],
   "source": [
    "test = ps.run_analysis(\"tran\")"
   ]
  },
  {
   "cell_type": "code",
   "execution_count": null,
   "metadata": {},
   "outputs": [],
   "source": [
    "# Terminate the interactive Spectre session\n",
    "ps.stop_session()"
   ]
  }
 ],
 "metadata": {
  "kernelspec": {
   "display_name": "Python 3 (ipykernel)",
   "language": "python",
   "name": "python3"
  },
  "language_info": {
   "codemirror_mode": {
    "name": "ipython",
    "version": 3
   },
   "file_extension": ".py",
   "mimetype": "text/x-python",
   "name": "python",
   "nbconvert_exporter": "python",
   "pygments_lexer": "ipython3",
   "version": "3.9.19"
  }
 },
 "nbformat": 4,
 "nbformat_minor": 2
}
