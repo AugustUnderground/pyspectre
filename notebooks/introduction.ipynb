{
 "cells": [
  {
   "cell_type": "markdown",
   "metadata": {},
   "source": [
    "## Getting Started with the Python Wrapper for Spectre\n",
    "- First, we import the pyspectre library, which allows us to interact with Spectre from Python.\n",
    "- Next, we specify the path to the Spectre netlist file, which contains the circuit description.\n",
    "- Finally, we start an interactive Spectre session using the netlist.\n",
    "\n",
    "This sets up a session, enabling real-time interaction with Spectre for simulations."
   ]
  },
  {
   "cell_type": "code",
   "execution_count": null,
   "metadata": {},
   "outputs": [],
   "source": [
    "import pyspectre as ps\n",
    "\n",
    "netlist = \"/input.scs\"\n",
    "session  = ps.start_session(netlist)"
   ]
  },
  {
   "cell_type": "markdown",
   "metadata": {},
   "source": [
    "### Working with analyses"
   ]
  },
  {
   "cell_type": "code",
   "execution_count": null,
   "metadata": {},
   "outputs": [],
   "source": [
    "# You can list all the available simulation analyses in the session\n",
    "ps.list_analyses(session)"
   ]
  },
  {
   "cell_type": "code",
   "execution_count": null,
   "metadata": {},
   "outputs": [],
   "source": [
    "# You can list the parameters of a specific analysis\n",
    "ps.list_analysis_parameters(session, \"tran\")"
   ]
  },
  {
   "cell_type": "code",
   "execution_count": null,
   "metadata": {},
   "outputs": [],
   "source": [
    "# You can retrieve the information and attribute structure of a analysis parameter\n",
    "ps.get_analysis_parameter(session, \"tran\", \"parent\")"
   ]
  },
  {
   "cell_type": "code",
   "execution_count": null,
   "metadata": {},
   "outputs": [],
   "source": [
    "# You can create a new custom analysis in the interactive session\n",
    "ps.create_analysis(session, \"tran\", \"test\")"
   ]
  },
  {
   "cell_type": "code",
   "execution_count": null,
   "metadata": {},
   "outputs": [],
   "source": [
    "# You can set an attribute of an analysis parameter\n",
    "ps.set_analysis_parameter(session, \"sweepC\", \"values\", \"value\", \"[1.5e-12 2e-12 3e-12 4e-12 5e-12]\")"
   ]
  },
  {
   "cell_type": "markdown",
   "metadata": {},
   "source": [
    "### Working with circuit instances (components)"
   ]
  },
  {
   "cell_type": "code",
   "execution_count": null,
   "metadata": {},
   "outputs": [],
   "source": [
    "# You can list all the components of a circuit\n",
    "ps.list_instances(session)"
   ]
  },
  {
   "cell_type": "code",
   "execution_count": null,
   "metadata": {},
   "outputs": [],
   "source": [
    "# You can list the parameters of a circuit component or instance\n",
    "ps.list_instance_parameters(session, \"W2\")"
   ]
  },
  {
   "cell_type": "code",
   "execution_count": null,
   "metadata": {},
   "outputs": [],
   "source": [
    "# You can retrieve the information and attribute structure of a instance parameter\n",
    "ps.get_instance_parameter(session, \"W2\", \"isnoisy\")"
   ]
  },
  {
   "cell_type": "code",
   "execution_count": null,
   "metadata": {},
   "outputs": [],
   "source": [
    "# You can set an attribute of an instance parameter\n",
    "ps.set_instance_parameter(session, \"W2\", \"isnoisy\", \"value\", \"no\")"
   ]
  },
  {
   "cell_type": "code",
   "execution_count": null,
   "metadata": {},
   "outputs": [],
   "source": [
    "# It is possible to list the nets of a circuit\n",
    "ps.list_nets(session)"
   ]
  },
  {
   "cell_type": "markdown",
   "metadata": {},
   "source": [
    "### Working with circuit parameters"
   ]
  },
  {
   "cell_type": "code",
   "execution_count": null,
   "metadata": {},
   "outputs": [],
   "source": [
    "# You can list the parameters of the circuit\n",
    "ps.list_circuit_parameters(session)"
   ]
  },
  {
   "cell_type": "code",
   "execution_count": null,
   "metadata": {},
   "outputs": [],
   "source": [
    "# You can retrieve the information and attribute structure of a circuit parameter\n",
    "ps.get_circuit_parameter(session, \"C2\")"
   ]
  },
  {
   "cell_type": "code",
   "execution_count": null,
   "metadata": {},
   "outputs": [],
   "source": [
    "# You can set an attribute of an circuit parameter\n",
    "ps.set_circuit_parameter(session, \"C2\", \"value\", \"3e-13\")"
   ]
  },
  {
   "cell_type": "markdown",
   "metadata": {},
   "source": [
    "### Running simulations and analyses"
   ]
  },
  {
   "cell_type": "code",
   "execution_count": null,
   "metadata": {},
   "outputs": [],
   "source": [
    "test = ps.run_analysis(session, \"sweepC\")"
   ]
  }
 ],
 "metadata": {
  "kernelspec": {
   "display_name": "Python 3 (ipykernel)",
   "language": "python",
   "name": "python3"
  },
  "language_info": {
   "codemirror_mode": {
    "name": "ipython",
    "version": 3
   },
   "file_extension": ".py",
   "mimetype": "text/x-python",
   "name": "python",
   "nbconvert_exporter": "python",
   "pygments_lexer": "ipython3",
   "version": "3.9.19"
  }
 },
 "nbformat": 4,
 "nbformat_minor": 2
}
